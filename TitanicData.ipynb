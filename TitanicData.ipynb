{
 "cells": [
  {
   "cell_type": "markdown",
   "metadata": {},
   "source": [
    "# Introdução\n",
    "\n",
    "Neste trabalho serão analisados os dados de 891 dos 2224 passageiros do Titanic e extraídas informações relevantes à respeito das mesmas. As conclusões obtidas não são definitivas, podendo ser refinadas e melhor trabalhadas para obtenção de mais informações a respeito das mesmas, bem como análises complementares são recomendadas.\n",
    "\n",
    "Os dados analisados foram encontrados [neste link](https://www.kaggle.com/c/titanic/data)."
   ]
  },
  {
   "cell_type": "code",
   "execution_count": 62,
   "metadata": {},
   "outputs": [],
   "source": [
    "# Importação das bibliotecas\n",
    "import pandas as pd\n",
    "import numpy as np\n",
    "import matplotlib.pyplot as plt"
   ]
  },
  {
   "cell_type": "markdown",
   "metadata": {},
   "source": [
    "## Limpeza de Dados\n",
    "\n",
    "Durante este processo de limpeza de dados, serão removidas as linhas duplicadas do conjunto de dados, bem como a remoção das colunas \"Name\", \"Ticket\" e \"Cabin\".\n",
    "\n",
    "As linhas duplicadas foram removidas porque são informações repetidas que poderiam inflar resultados, apresentando falso positivos. As colunas citadas foram removidas por não terem sido escolhidas para qualquer análise durante o desenvolvimento deste trabalho.\n",
    "\n",
    "Todas as demais colunas foram renomeadas para \"lower case\" e 3 delas foram renomeadas para facilitar a leitura visual dos dados durante a exibição das informações."
   ]
  },
  {
   "cell_type": "code",
   "execution_count": 63,
   "metadata": {},
   "outputs": [],
   "source": [
    "# Importação do arquivo de dados\n",
    "df = pd.read_csv('titanic-data-6.csv', index_col=0)"
   ]
  },
  {
   "cell_type": "code",
   "execution_count": 64,
   "metadata": {},
   "outputs": [],
   "source": [
    "# Removendo linhas duplicadas\n",
    "df.drop_duplicates(inplace=True)"
   ]
  },
  {
   "cell_type": "code",
   "execution_count": 65,
   "metadata": {
    "scrolled": true
   },
   "outputs": [
    {
     "data": {
      "text/html": [
       "<div>\n",
       "<style scoped>\n",
       "    .dataframe tbody tr th:only-of-type {\n",
       "        vertical-align: middle;\n",
       "    }\n",
       "\n",
       "    .dataframe tbody tr th {\n",
       "        vertical-align: top;\n",
       "    }\n",
       "\n",
       "    .dataframe thead th {\n",
       "        text-align: right;\n",
       "    }\n",
       "</style>\n",
       "<table border=\"1\" class=\"dataframe\">\n",
       "  <thead>\n",
       "    <tr style=\"text-align: right;\">\n",
       "      <th></th>\n",
       "      <th>Survived</th>\n",
       "      <th>Pclass</th>\n",
       "      <th>Name</th>\n",
       "      <th>Sex</th>\n",
       "      <th>Age</th>\n",
       "      <th>SibSp</th>\n",
       "      <th>Parch</th>\n",
       "      <th>Ticket</th>\n",
       "      <th>Fare</th>\n",
       "      <th>Cabin</th>\n",
       "      <th>Embarked</th>\n",
       "    </tr>\n",
       "    <tr>\n",
       "      <th>PassengerId</th>\n",
       "      <th></th>\n",
       "      <th></th>\n",
       "      <th></th>\n",
       "      <th></th>\n",
       "      <th></th>\n",
       "      <th></th>\n",
       "      <th></th>\n",
       "      <th></th>\n",
       "      <th></th>\n",
       "      <th></th>\n",
       "      <th></th>\n",
       "    </tr>\n",
       "  </thead>\n",
       "  <tbody>\n",
       "    <tr>\n",
       "      <th>1</th>\n",
       "      <td>0</td>\n",
       "      <td>3</td>\n",
       "      <td>Braund, Mr. Owen Harris</td>\n",
       "      <td>male</td>\n",
       "      <td>22.0</td>\n",
       "      <td>1</td>\n",
       "      <td>0</td>\n",
       "      <td>A/5 21171</td>\n",
       "      <td>7.2500</td>\n",
       "      <td>NaN</td>\n",
       "      <td>S</td>\n",
       "    </tr>\n",
       "    <tr>\n",
       "      <th>2</th>\n",
       "      <td>1</td>\n",
       "      <td>1</td>\n",
       "      <td>Cumings, Mrs. John Bradley (Florence Briggs Th...</td>\n",
       "      <td>female</td>\n",
       "      <td>38.0</td>\n",
       "      <td>1</td>\n",
       "      <td>0</td>\n",
       "      <td>PC 17599</td>\n",
       "      <td>71.2833</td>\n",
       "      <td>C85</td>\n",
       "      <td>C</td>\n",
       "    </tr>\n",
       "    <tr>\n",
       "      <th>3</th>\n",
       "      <td>1</td>\n",
       "      <td>3</td>\n",
       "      <td>Heikkinen, Miss. Laina</td>\n",
       "      <td>female</td>\n",
       "      <td>26.0</td>\n",
       "      <td>0</td>\n",
       "      <td>0</td>\n",
       "      <td>STON/O2. 3101282</td>\n",
       "      <td>7.9250</td>\n",
       "      <td>NaN</td>\n",
       "      <td>S</td>\n",
       "    </tr>\n",
       "    <tr>\n",
       "      <th>4</th>\n",
       "      <td>1</td>\n",
       "      <td>1</td>\n",
       "      <td>Futrelle, Mrs. Jacques Heath (Lily May Peel)</td>\n",
       "      <td>female</td>\n",
       "      <td>35.0</td>\n",
       "      <td>1</td>\n",
       "      <td>0</td>\n",
       "      <td>113803</td>\n",
       "      <td>53.1000</td>\n",
       "      <td>C123</td>\n",
       "      <td>S</td>\n",
       "    </tr>\n",
       "    <tr>\n",
       "      <th>5</th>\n",
       "      <td>0</td>\n",
       "      <td>3</td>\n",
       "      <td>Allen, Mr. William Henry</td>\n",
       "      <td>male</td>\n",
       "      <td>35.0</td>\n",
       "      <td>0</td>\n",
       "      <td>0</td>\n",
       "      <td>373450</td>\n",
       "      <td>8.0500</td>\n",
       "      <td>NaN</td>\n",
       "      <td>S</td>\n",
       "    </tr>\n",
       "  </tbody>\n",
       "</table>\n",
       "</div>"
      ],
      "text/plain": [
       "             Survived  Pclass  \\\n",
       "PassengerId                     \n",
       "1                   0       3   \n",
       "2                   1       1   \n",
       "3                   1       3   \n",
       "4                   1       1   \n",
       "5                   0       3   \n",
       "\n",
       "                                                          Name     Sex   Age  \\\n",
       "PassengerId                                                                    \n",
       "1                                      Braund, Mr. Owen Harris    male  22.0   \n",
       "2            Cumings, Mrs. John Bradley (Florence Briggs Th...  female  38.0   \n",
       "3                                       Heikkinen, Miss. Laina  female  26.0   \n",
       "4                 Futrelle, Mrs. Jacques Heath (Lily May Peel)  female  35.0   \n",
       "5                                     Allen, Mr. William Henry    male  35.0   \n",
       "\n",
       "             SibSp  Parch            Ticket     Fare Cabin Embarked  \n",
       "PassengerId                                                          \n",
       "1                1      0         A/5 21171   7.2500   NaN        S  \n",
       "2                1      0          PC 17599  71.2833   C85        C  \n",
       "3                0      0  STON/O2. 3101282   7.9250   NaN        S  \n",
       "4                1      0            113803  53.1000  C123        S  \n",
       "5                0      0            373450   8.0500   NaN        S  "
      ]
     },
     "execution_count": 65,
     "metadata": {},
     "output_type": "execute_result"
    }
   ],
   "source": [
    "# Primeiras linhas do arquivo importado\n",
    "df.head()"
   ]
  },
  {
   "cell_type": "code",
   "execution_count": 66,
   "metadata": {},
   "outputs": [
    {
     "data": {
      "text/plain": [
       "(891, 11)"
      ]
     },
     "execution_count": 66,
     "metadata": {},
     "output_type": "execute_result"
    }
   ],
   "source": [
    "# Informações sobre o DataFrame\n",
    "df.shape"
   ]
  },
  {
   "cell_type": "code",
   "execution_count": 67,
   "metadata": {
    "scrolled": true
   },
   "outputs": [
    {
     "data": {
      "text/html": [
       "<div>\n",
       "<style scoped>\n",
       "    .dataframe tbody tr th:only-of-type {\n",
       "        vertical-align: middle;\n",
       "    }\n",
       "\n",
       "    .dataframe tbody tr th {\n",
       "        vertical-align: top;\n",
       "    }\n",
       "\n",
       "    .dataframe thead th {\n",
       "        text-align: right;\n",
       "    }\n",
       "</style>\n",
       "<table border=\"1\" class=\"dataframe\">\n",
       "  <thead>\n",
       "    <tr style=\"text-align: right;\">\n",
       "      <th></th>\n",
       "      <th>Survived</th>\n",
       "      <th>Pclass</th>\n",
       "      <th>Age</th>\n",
       "      <th>SibSp</th>\n",
       "      <th>Parch</th>\n",
       "      <th>Fare</th>\n",
       "    </tr>\n",
       "  </thead>\n",
       "  <tbody>\n",
       "    <tr>\n",
       "      <th>count</th>\n",
       "      <td>891.000000</td>\n",
       "      <td>891.000000</td>\n",
       "      <td>714.000000</td>\n",
       "      <td>891.000000</td>\n",
       "      <td>891.000000</td>\n",
       "      <td>891.000000</td>\n",
       "    </tr>\n",
       "    <tr>\n",
       "      <th>mean</th>\n",
       "      <td>0.383838</td>\n",
       "      <td>2.308642</td>\n",
       "      <td>29.699118</td>\n",
       "      <td>0.523008</td>\n",
       "      <td>0.381594</td>\n",
       "      <td>32.204208</td>\n",
       "    </tr>\n",
       "    <tr>\n",
       "      <th>std</th>\n",
       "      <td>0.486592</td>\n",
       "      <td>0.836071</td>\n",
       "      <td>14.526497</td>\n",
       "      <td>1.102743</td>\n",
       "      <td>0.806057</td>\n",
       "      <td>49.693429</td>\n",
       "    </tr>\n",
       "    <tr>\n",
       "      <th>min</th>\n",
       "      <td>0.000000</td>\n",
       "      <td>1.000000</td>\n",
       "      <td>0.420000</td>\n",
       "      <td>0.000000</td>\n",
       "      <td>0.000000</td>\n",
       "      <td>0.000000</td>\n",
       "    </tr>\n",
       "    <tr>\n",
       "      <th>25%</th>\n",
       "      <td>0.000000</td>\n",
       "      <td>2.000000</td>\n",
       "      <td>20.125000</td>\n",
       "      <td>0.000000</td>\n",
       "      <td>0.000000</td>\n",
       "      <td>7.910400</td>\n",
       "    </tr>\n",
       "    <tr>\n",
       "      <th>50%</th>\n",
       "      <td>0.000000</td>\n",
       "      <td>3.000000</td>\n",
       "      <td>28.000000</td>\n",
       "      <td>0.000000</td>\n",
       "      <td>0.000000</td>\n",
       "      <td>14.454200</td>\n",
       "    </tr>\n",
       "    <tr>\n",
       "      <th>75%</th>\n",
       "      <td>1.000000</td>\n",
       "      <td>3.000000</td>\n",
       "      <td>38.000000</td>\n",
       "      <td>1.000000</td>\n",
       "      <td>0.000000</td>\n",
       "      <td>31.000000</td>\n",
       "    </tr>\n",
       "    <tr>\n",
       "      <th>max</th>\n",
       "      <td>1.000000</td>\n",
       "      <td>3.000000</td>\n",
       "      <td>80.000000</td>\n",
       "      <td>8.000000</td>\n",
       "      <td>6.000000</td>\n",
       "      <td>512.329200</td>\n",
       "    </tr>\n",
       "  </tbody>\n",
       "</table>\n",
       "</div>"
      ],
      "text/plain": [
       "         Survived      Pclass         Age       SibSp       Parch        Fare\n",
       "count  891.000000  891.000000  714.000000  891.000000  891.000000  891.000000\n",
       "mean     0.383838    2.308642   29.699118    0.523008    0.381594   32.204208\n",
       "std      0.486592    0.836071   14.526497    1.102743    0.806057   49.693429\n",
       "min      0.000000    1.000000    0.420000    0.000000    0.000000    0.000000\n",
       "25%      0.000000    2.000000   20.125000    0.000000    0.000000    7.910400\n",
       "50%      0.000000    3.000000   28.000000    0.000000    0.000000   14.454200\n",
       "75%      1.000000    3.000000   38.000000    1.000000    0.000000   31.000000\n",
       "max      1.000000    3.000000   80.000000    8.000000    6.000000  512.329200"
      ]
     },
     "execution_count": 67,
     "metadata": {},
     "output_type": "execute_result"
    }
   ],
   "source": [
    "# Descrição dos dados\n",
    "df.describe()"
   ]
  },
  {
   "cell_type": "code",
   "execution_count": 68,
   "metadata": {
    "scrolled": true
   },
   "outputs": [
    {
     "data": {
      "text/plain": [
       "Survived      int64\n",
       "Pclass        int64\n",
       "Name         object\n",
       "Sex          object\n",
       "Age         float64\n",
       "SibSp         int64\n",
       "Parch         int64\n",
       "Ticket       object\n",
       "Fare        float64\n",
       "Cabin        object\n",
       "Embarked     object\n",
       "dtype: object"
      ]
     },
     "execution_count": 68,
     "metadata": {},
     "output_type": "execute_result"
    }
   ],
   "source": [
    "# Tipos dos dados\n",
    "df.dtypes"
   ]
  },
  {
   "cell_type": "code",
   "execution_count": 69,
   "metadata": {},
   "outputs": [
    {
     "data": {
      "text/plain": [
       "(891, 11)"
      ]
     },
     "execution_count": 69,
     "metadata": {},
     "output_type": "execute_result"
    }
   ],
   "source": [
    "# Remoção de linhas duplicadas\n",
    "df.drop_duplicates(inplace=True)\n",
    "df.shape"
   ]
  },
  {
   "cell_type": "code",
   "execution_count": 70,
   "metadata": {
    "scrolled": true
   },
   "outputs": [
    {
     "data": {
      "text/html": [
       "<div>\n",
       "<style scoped>\n",
       "    .dataframe tbody tr th:only-of-type {\n",
       "        vertical-align: middle;\n",
       "    }\n",
       "\n",
       "    .dataframe tbody tr th {\n",
       "        vertical-align: top;\n",
       "    }\n",
       "\n",
       "    .dataframe thead th {\n",
       "        text-align: right;\n",
       "    }\n",
       "</style>\n",
       "<table border=\"1\" class=\"dataframe\">\n",
       "  <thead>\n",
       "    <tr style=\"text-align: right;\">\n",
       "      <th></th>\n",
       "      <th>Survived</th>\n",
       "      <th>Pclass</th>\n",
       "      <th>Sex</th>\n",
       "      <th>Age</th>\n",
       "      <th>SibSp</th>\n",
       "      <th>Parch</th>\n",
       "      <th>Fare</th>\n",
       "      <th>Embarked</th>\n",
       "    </tr>\n",
       "    <tr>\n",
       "      <th>PassengerId</th>\n",
       "      <th></th>\n",
       "      <th></th>\n",
       "      <th></th>\n",
       "      <th></th>\n",
       "      <th></th>\n",
       "      <th></th>\n",
       "      <th></th>\n",
       "      <th></th>\n",
       "    </tr>\n",
       "  </thead>\n",
       "  <tbody>\n",
       "    <tr>\n",
       "      <th>1</th>\n",
       "      <td>0</td>\n",
       "      <td>3</td>\n",
       "      <td>male</td>\n",
       "      <td>22.0</td>\n",
       "      <td>1</td>\n",
       "      <td>0</td>\n",
       "      <td>7.2500</td>\n",
       "      <td>S</td>\n",
       "    </tr>\n",
       "    <tr>\n",
       "      <th>2</th>\n",
       "      <td>1</td>\n",
       "      <td>1</td>\n",
       "      <td>female</td>\n",
       "      <td>38.0</td>\n",
       "      <td>1</td>\n",
       "      <td>0</td>\n",
       "      <td>71.2833</td>\n",
       "      <td>C</td>\n",
       "    </tr>\n",
       "    <tr>\n",
       "      <th>3</th>\n",
       "      <td>1</td>\n",
       "      <td>3</td>\n",
       "      <td>female</td>\n",
       "      <td>26.0</td>\n",
       "      <td>0</td>\n",
       "      <td>0</td>\n",
       "      <td>7.9250</td>\n",
       "      <td>S</td>\n",
       "    </tr>\n",
       "    <tr>\n",
       "      <th>4</th>\n",
       "      <td>1</td>\n",
       "      <td>1</td>\n",
       "      <td>female</td>\n",
       "      <td>35.0</td>\n",
       "      <td>1</td>\n",
       "      <td>0</td>\n",
       "      <td>53.1000</td>\n",
       "      <td>S</td>\n",
       "    </tr>\n",
       "    <tr>\n",
       "      <th>5</th>\n",
       "      <td>0</td>\n",
       "      <td>3</td>\n",
       "      <td>male</td>\n",
       "      <td>35.0</td>\n",
       "      <td>0</td>\n",
       "      <td>0</td>\n",
       "      <td>8.0500</td>\n",
       "      <td>S</td>\n",
       "    </tr>\n",
       "  </tbody>\n",
       "</table>\n",
       "</div>"
      ],
      "text/plain": [
       "             Survived  Pclass     Sex   Age  SibSp  Parch     Fare Embarked\n",
       "PassengerId                                                                \n",
       "1                   0       3    male  22.0      1      0   7.2500        S\n",
       "2                   1       1  female  38.0      1      0  71.2833        C\n",
       "3                   1       3  female  26.0      0      0   7.9250        S\n",
       "4                   1       1  female  35.0      1      0  53.1000        S\n",
       "5                   0       3    male  35.0      0      0   8.0500        S"
      ]
     },
     "execution_count": 70,
     "metadata": {},
     "output_type": "execute_result"
    }
   ],
   "source": [
    "# Remoção das colunas desnecessárias\n",
    "df.drop(['Name', 'Ticket', 'Cabin'], axis=1, inplace=True)\n",
    "df.head()"
   ]
  },
  {
   "cell_type": "code",
   "execution_count": 71,
   "metadata": {},
   "outputs": [],
   "source": [
    "# Renomeação de colunas\n",
    "df.rename(columns=lambda x: x.strip().lower().replace(\" \", \"_\"), inplace=True)\n",
    "df.rename(columns={'pclass': 'class', 'sibsp': 'siblings_spouses', 'parch': 'parents_children'}, inplace=True)"
   ]
  },
  {
   "cell_type": "code",
   "execution_count": 72,
   "metadata": {
    "scrolled": true
   },
   "outputs": [
    {
     "data": {
      "text/html": [
       "<div>\n",
       "<style scoped>\n",
       "    .dataframe tbody tr th:only-of-type {\n",
       "        vertical-align: middle;\n",
       "    }\n",
       "\n",
       "    .dataframe tbody tr th {\n",
       "        vertical-align: top;\n",
       "    }\n",
       "\n",
       "    .dataframe thead th {\n",
       "        text-align: right;\n",
       "    }\n",
       "</style>\n",
       "<table border=\"1\" class=\"dataframe\">\n",
       "  <thead>\n",
       "    <tr style=\"text-align: right;\">\n",
       "      <th></th>\n",
       "      <th>survived</th>\n",
       "      <th>class</th>\n",
       "      <th>sex</th>\n",
       "      <th>age</th>\n",
       "      <th>siblings_spouses</th>\n",
       "      <th>parents_children</th>\n",
       "      <th>fare</th>\n",
       "      <th>embarked</th>\n",
       "    </tr>\n",
       "    <tr>\n",
       "      <th>PassengerId</th>\n",
       "      <th></th>\n",
       "      <th></th>\n",
       "      <th></th>\n",
       "      <th></th>\n",
       "      <th></th>\n",
       "      <th></th>\n",
       "      <th></th>\n",
       "      <th></th>\n",
       "    </tr>\n",
       "  </thead>\n",
       "  <tbody>\n",
       "    <tr>\n",
       "      <th>1</th>\n",
       "      <td>0</td>\n",
       "      <td>3</td>\n",
       "      <td>male</td>\n",
       "      <td>22.0</td>\n",
       "      <td>1</td>\n",
       "      <td>0</td>\n",
       "      <td>7.2500</td>\n",
       "      <td>S</td>\n",
       "    </tr>\n",
       "    <tr>\n",
       "      <th>2</th>\n",
       "      <td>1</td>\n",
       "      <td>1</td>\n",
       "      <td>female</td>\n",
       "      <td>38.0</td>\n",
       "      <td>1</td>\n",
       "      <td>0</td>\n",
       "      <td>71.2833</td>\n",
       "      <td>C</td>\n",
       "    </tr>\n",
       "    <tr>\n",
       "      <th>3</th>\n",
       "      <td>1</td>\n",
       "      <td>3</td>\n",
       "      <td>female</td>\n",
       "      <td>26.0</td>\n",
       "      <td>0</td>\n",
       "      <td>0</td>\n",
       "      <td>7.9250</td>\n",
       "      <td>S</td>\n",
       "    </tr>\n",
       "    <tr>\n",
       "      <th>4</th>\n",
       "      <td>1</td>\n",
       "      <td>1</td>\n",
       "      <td>female</td>\n",
       "      <td>35.0</td>\n",
       "      <td>1</td>\n",
       "      <td>0</td>\n",
       "      <td>53.1000</td>\n",
       "      <td>S</td>\n",
       "    </tr>\n",
       "    <tr>\n",
       "      <th>5</th>\n",
       "      <td>0</td>\n",
       "      <td>3</td>\n",
       "      <td>male</td>\n",
       "      <td>35.0</td>\n",
       "      <td>0</td>\n",
       "      <td>0</td>\n",
       "      <td>8.0500</td>\n",
       "      <td>S</td>\n",
       "    </tr>\n",
       "  </tbody>\n",
       "</table>\n",
       "</div>"
      ],
      "text/plain": [
       "             survived  class     sex   age  siblings_spouses  \\\n",
       "PassengerId                                                    \n",
       "1                   0      3    male  22.0                 1   \n",
       "2                   1      1  female  38.0                 1   \n",
       "3                   1      3  female  26.0                 0   \n",
       "4                   1      1  female  35.0                 1   \n",
       "5                   0      3    male  35.0                 0   \n",
       "\n",
       "             parents_children     fare embarked  \n",
       "PassengerId                                      \n",
       "1                           0   7.2500        S  \n",
       "2                           0  71.2833        C  \n",
       "3                           0   7.9250        S  \n",
       "4                           0  53.1000        S  \n",
       "5                           0   8.0500        S  "
      ]
     },
     "execution_count": 72,
     "metadata": {},
     "output_type": "execute_result"
    }
   ],
   "source": [
    "# Exibição das colunas renomeadas\n",
    "df.head()"
   ]
  },
  {
   "cell_type": "markdown",
   "metadata": {},
   "source": [
    "## Perguntas\n",
    "\n",
    "Para as perguntas abaixo, foram feitas algumas escolhas no intuito de aumentar a massa de dados e melhorar a análise estatísticamente. Para as perguntas cujas as colunas envolvidas não possuíam valores nulos, nenhum dado foi descartado, mesmo que outras colunas os possuíssem em seu universo, mas que não estivessem envolvidos com a análise em questão. Somente durante a pergunta de número 3, em relação à idade, é que as linhas que possuíam valores nulos foram descartadas.\n",
    "\n",
    "Para responder às perguntas 1, 2 e 4, foram utilizados os dataframes df_survived e df_died. Para responder à pergunta 3, estes dataframes foram filtrados para levarem em consideração somente as linhas que possuíam valores de idade definidos, conforme a explicação acima, nomeados df_survived_with_age e df_died_with_age.\n",
    "\n",
    "Após a consolidação dos dados, as seguintes perguntas serão exploradas em busca de uma possível resposta:\n",
    "\n",
    "1. Quais classes sociais com maiores índices de sobrevivência?\n",
    "2. Qual sexo com maiores índices de sobrevivência?\n",
    "3. Qual a faixa etária com maiores índices de sobrevivência?\n",
    "4. Existe relação entre idade e taxa de embarque?"
   ]
  },
  {
   "cell_type": "code",
   "execution_count": 73,
   "metadata": {},
   "outputs": [
    {
     "data": {
      "text/plain": [
       "0"
      ]
     },
     "execution_count": 73,
     "metadata": {},
     "output_type": "execute_result"
    }
   ],
   "source": [
    "# Contagem de linhas com classe social nula\n",
    "df['class'].isnull().sum()"
   ]
  },
  {
   "cell_type": "code",
   "execution_count": 74,
   "metadata": {
    "scrolled": true
   },
   "outputs": [
    {
     "data": {
      "text/plain": [
       "0"
      ]
     },
     "execution_count": 74,
     "metadata": {},
     "output_type": "execute_result"
    }
   ],
   "source": [
    "# Contagem de linhas com sexo nulo\n",
    "df['sex'].isnull().sum()"
   ]
  },
  {
   "cell_type": "code",
   "execution_count": 75,
   "metadata": {},
   "outputs": [
    {
     "data": {
      "text/plain": [
       "177"
      ]
     },
     "execution_count": 75,
     "metadata": {},
     "output_type": "execute_result"
    }
   ],
   "source": [
    "# Contagem de linhas com idade nula\n",
    "df['age'].isnull().sum()"
   ]
  },
  {
   "cell_type": "code",
   "execution_count": 76,
   "metadata": {
    "scrolled": false
   },
   "outputs": [],
   "source": [
    "# Contadores de sobrevivência\n",
    "df_survived = df.query('survived == 1')\n",
    "df_died = df.query('survived == 0')"
   ]
  },
  {
   "cell_type": "code",
   "execution_count": 77,
   "metadata": {},
   "outputs": [
    {
     "data": {
      "text/plain": [
       "(342, 8)"
      ]
     },
     "execution_count": 77,
     "metadata": {},
     "output_type": "execute_result"
    }
   ],
   "source": [
    "# Resultados encontrados para os sobreviventes\n",
    "df_survived.shape"
   ]
  },
  {
   "cell_type": "code",
   "execution_count": 78,
   "metadata": {
    "scrolled": true
   },
   "outputs": [
    {
     "data": {
      "text/plain": [
       "(549, 8)"
      ]
     },
     "execution_count": 78,
     "metadata": {},
     "output_type": "execute_result"
    }
   ],
   "source": [
    "# Resultados encontrados para as vítimas\n",
    "df_died.shape"
   ]
  },
  {
   "cell_type": "code",
   "execution_count": 79,
   "metadata": {
    "scrolled": false
   },
   "outputs": [
    {
     "data": {
      "text/plain": [
       "True"
      ]
     },
     "execution_count": 79,
     "metadata": {},
     "output_type": "execute_result"
    }
   ],
   "source": [
    "# Verificando que nenhum passageiro está sem a flag de sobrevivência definida\n",
    "(df_survived.shape[0] + df_died.shape[0]) == df.shape[0]"
   ]
  },
  {
   "cell_type": "code",
   "execution_count": 80,
   "metadata": {},
   "outputs": [],
   "source": [
    "# Contadores de sobrevivência com idade não nula\n",
    "# np.isfinite hint: https://stackoverflow.com/questions/2831516/isnotnan-functionality-in-numpy-can-this-be-more-pythonic\n",
    "df_survived_with_age = df_survived[df_survived['age'].apply(np.isfinite)]\n",
    "df_died_with_age = df_died[df_died['age'].apply(np.isfinite)]"
   ]
  },
  {
   "cell_type": "code",
   "execution_count": 81,
   "metadata": {},
   "outputs": [
    {
     "data": {
      "text/plain": [
       "(290, 8)"
      ]
     },
     "execution_count": 81,
     "metadata": {},
     "output_type": "execute_result"
    }
   ],
   "source": [
    "# Resultados encontrados para os sobreviventes com idade preenchida\n",
    "df_survived_with_age.shape"
   ]
  },
  {
   "cell_type": "code",
   "execution_count": 82,
   "metadata": {},
   "outputs": [
    {
     "data": {
      "text/plain": [
       "(424, 8)"
      ]
     },
     "execution_count": 82,
     "metadata": {},
     "output_type": "execute_result"
    }
   ],
   "source": [
    "# Resultados encontrados para as vítimas com idade preenchida\n",
    "df_died_with_age.shape"
   ]
  },
  {
   "cell_type": "code",
   "execution_count": 83,
   "metadata": {},
   "outputs": [],
   "source": [
    "\"\"\"\n",
    "Retorna a contagem de ocorrências de um determinado campo no dataframe\n",
    "\n",
    "Argumentos:\n",
    "    df_input: array multidimensional de entrada\n",
    "    field: campo a ser contado\n",
    "Retorna:\n",
    "    list: cada posição representando um valor único para o campo informado\n",
    "\"\"\"\n",
    "def fields_counter(df_input, field):\n",
    "    groups = {}\n",
    "    df_grouped = df_input.groupby(field)[field].count()\n",
    "    \n",
    "    for group in df_input[field].unique():\n",
    "        groups[group] = df_grouped[group]\n",
    "            \n",
    "    return groups"
   ]
  },
  {
   "cell_type": "code",
   "execution_count": 84,
   "metadata": {},
   "outputs": [],
   "source": [
    "\"\"\"\n",
    "Retorna a porcentagem de ocorrências de um determinado campo no dataframe\n",
    "\n",
    "Argumentos:\n",
    "    df_counter: array multidimensional de entrada com as contagens já realizadas\n",
    "    df_total: array multidimensional representando o universo total de elementos\n",
    "Retorna:\n",
    "    list: cada posição representando um valor único para o campo informado\n",
    "\"\"\"\n",
    "def fields_percent(df_counter, df_total):\n",
    "    groups = {}\n",
    "    \n",
    "    for group in df_counter:\n",
    "        groups[group] = df_counter[group] * 100 / df_total.shape[0]\n",
    "            \n",
    "    return groups"
   ]
  },
  {
   "cell_type": "code",
   "execution_count": 85,
   "metadata": {},
   "outputs": [],
   "source": [
    "\"\"\"\n",
    "Retorna um gráfico de barras para um dicionário informado\n",
    "\n",
    "Argumentos:\n",
    "    df_input: array multidimensional de entrada\n",
    "Retorna:\n",
    "    list: gráfico de barras com os elementos do array de entrada ordenados pela chave\n",
    "\"\"\"\n",
    "def graph_bar_generator(df_input, main_title = '', x_label = '', y_label = ''):\n",
    "    df_sorted = {}\n",
    "    \n",
    "    # Sort method: https://www.saltycrane.com/blog/2007/09/how-to-sort-python-dictionary-by-keys/\n",
    "    for key in sorted(df_input.keys()):\n",
    "        df_sorted[key] = df_input[key]\n",
    "    \n",
    "    plt.bar(range(len(df_sorted)), df_sorted.values(), align='center')\n",
    "    plt.xticks(range(len(df_sorted)), list(df_sorted.keys()))\n",
    "    plt.title(main_title)\n",
    "    plt.xlabel(x_label)\n",
    "    plt.ylabel(y_label)\n",
    "    \n",
    "    return plt.show()"
   ]
  },
  {
   "cell_type": "code",
   "execution_count": 86,
   "metadata": {},
   "outputs": [],
   "source": [
    "\"\"\"\n",
    "Separa os dados por faixa etária\n",
    "\n",
    "Argumentos:\n",
    "    df_input: array multidimensional de entrada\n",
    "    age_range: faixa etária desejada\n",
    "Retorna:\n",
    "    list: data frame filtrado com a faixa etária desejada\n",
    "\"\"\"\n",
    "def chop_by_age_range(df_input, age_range):\n",
    "    # Faixas etárias: https://pt.wikipedia.org/wiki/Predefini%C3%A7%C3%A3o:Faixas_et%C3%A1rias_do_Brasil\n",
    "    def range_1():\n",
    "        return \"age >= 0 and age < 15\"\n",
    "    def range_2():\n",
    "        return \"age >= 15 and age < 30\"\n",
    "    def range_3():\n",
    "        return \"age >= 30 and age < 60\"\n",
    "    def range_4():\n",
    "        return \"age >= 60\"\n",
    "    \n",
    "    # Switch/Case: https://stackoverflow.com/questions/11479816/what-is-the-python-equivalent-for-a-case-switch-statement\n",
    "    options = {\n",
    "        1: range_1,\n",
    "        2: range_2,\n",
    "        3: range_3,\n",
    "        4: range_4\n",
    "    }\n",
    "    \n",
    "    query = options[age_range]()\n",
    "    return df_input.query(query)"
   ]
  },
  {
   "cell_type": "markdown",
   "metadata": {},
   "source": [
    "### Pergunta 1: Quais classes sociais com maiores índices de sobrevivência?\n",
    "\n",
    "Existe relação entre a classe social dos passageiros com os índices de sobrevivência apresentados?"
   ]
  },
  {
   "cell_type": "code",
   "execution_count": 87,
   "metadata": {},
   "outputs": [
    {
     "name": "stdout",
     "output_type": "stream",
     "text": [
      "{1: 136, 3: 119, 2: 87}\n",
      "{3: 372, 1: 80, 2: 97}\n"
     ]
    }
   ],
   "source": [
    "# Contador de sobreviventes e vítimas de cada classe social\n",
    "df_survived_classes_counter = fields_counter(df_survived, 'class')\n",
    "df_died_classes_counter = fields_counter(df_died, 'class')\n",
    "\n",
    "print(df_survived_classes_counter)\n",
    "print(df_died_classes_counter)"
   ]
  },
  {
   "cell_type": "code",
   "execution_count": 88,
   "metadata": {},
   "outputs": [
    {
     "name": "stdout",
     "output_type": "stream",
     "text": [
      "{1: 39.76608187134503, 3: 34.7953216374269, 2: 25.43859649122807}\n",
      "{3: 67.75956284153006, 1: 14.571948998178506, 2: 17.66848816029144}\n"
     ]
    }
   ],
   "source": [
    "# Percentual de sobreviventes e vítimas de cada classe social\n",
    "df_survived_classes_percent = fields_percent(df_survived_classes_counter, df_survived)\n",
    "df_died_classes_percent = fields_percent(df_died_classes_counter, df_died)\n",
    "\n",
    "print(df_survived_classes_percent)\n",
    "print(df_died_classes_percent)"
   ]
  },
  {
   "cell_type": "code",
   "execution_count": 89,
   "metadata": {
    "scrolled": false
   },
   "outputs": [
    {
     "data": {
      "image/png": "[encoded data removed]",
      "text/plain": [
       "<matplotlib.figure.Figure at 0x7f27cf7ad828>"
      ]
     },
     "metadata": {},
     "output_type": "display_data"
    }
   ],
   "source": [
    "# Gráfico de sobreviventes por classe em barra\n",
    "graph_bar_generator(df_survived_classes_counter, 'Survivors Totals by Social Class', 'Social Class', 'Total')"
   ]
  },
  {
   "cell_type": "markdown",
   "metadata": {},
   "source": [
    "É possível visualizar neste gráfico que a maior quantidade de sobreviventes foi da 1a. classe, seguido da 3a. classe, em números absolutos."
   ]
  },
  {
   "cell_type": "code",
   "execution_count": 90,
   "metadata": {
    "scrolled": false
   },
   "outputs": [
    {
     "data": {
      "image/png": "[encoded data removed]",
      "text/plain": [
       "<matplotlib.figure.Figure at 0x7f27cf332860>"
      ]
     },
     "metadata": {},
     "output_type": "display_data"
    }
   ],
   "source": [
    "# Gráfico de vítimas por classe em barra\n",
    "graph_bar_generator(df_died_classes_counter, 'Victims Totals by Social Class', 'Social Class', 'Total')"
   ]
  },
  {
   "cell_type": "markdown",
   "metadata": {},
   "source": [
    "É possível visualizar neste gráfico que a maior quantidade de vítimas foi da 3a. classe, tendo a 1a. e a 2a. classe muito próximos em números absolutos."
   ]
  },
  {
   "cell_type": "code",
   "execution_count": 91,
   "metadata": {
    "scrolled": true
   },
   "outputs": [
    {
     "data": {
      "image/png": "[encoded data removed]",
      "text/plain": [
       "<matplotlib.figure.Figure at 0x7f27cf311f98>"
      ]
     },
     "metadata": {},
     "output_type": "display_data"
    }
   ],
   "source": [
    "# Gráfico de porcentagem de sobreviventes por classe em barra\n",
    "graph_bar_generator(df_survived_classes_percent, 'Survivors Percentage by Social Clas', 'Social Class', 'Percentage')"
   ]
  },
  {
   "cell_type": "markdown",
   "metadata": {},
   "source": [
    "É possível visualizar neste gráfico que, percentualmente, quase metade dos sobreviventes são da 1a. classe, seguido da 3a. classe."
   ]
  },
  {
   "cell_type": "code",
   "execution_count": 92,
   "metadata": {
    "scrolled": true
   },
   "outputs": [
    {
     "data": {
      "image/png": "[encoded data removed]",
      "text/plain": [
       "<matplotlib.figure.Figure at 0x7f27cf3325c0>"
      ]
     },
     "metadata": {},
     "output_type": "display_data"
    }
   ],
   "source": [
    "# Gráfico de porcentagem de vítimas por classe em barra\n",
    "graph_bar_generator(df_died_classes_percent, 'Victims Percentage by Social Class', 'Social Class', 'Percentage')"
   ]
  },
  {
   "cell_type": "markdown",
   "metadata": {},
   "source": [
    "Neste gráfico, é possível visualizar que, percentualmente, a maior quantidade de vítimas foi da 3a. classe."
   ]
  },
  {
   "cell_type": "markdown",
   "metadata": {},
   "source": [
    "#### Resposta\n",
    "\n",
    "A classe social com maiores índices de sobrevivência foram: 1a., 3a. e 2a., em ordem. A 1a. classe representa 39,77% do total de sobreviventes.\n",
    "\n",
    "A classe social com maiores índices de vítimas foram: 3a., 2a. e 1a., em ordem. A 3a. classe respresenta 67,76% das vítimas fatais do acidente.\n",
    "\n",
    "Como a maior parte dos passageiros do dataframe disponível eram da 3a. classe, explica o motivo de que, apesar de representar uma boa parcela de sobreviventes em número absolutos, também representa a maior parcela de vítimas percentualmente."
   ]
  },
  {
   "cell_type": "markdown",
   "metadata": {},
   "source": [
    "### Pergunta 2: Qual sexo com maiores índices de sobrevivência?\n",
    "\n",
    "Existe relação entre o sexo dos passageiros com os índices de sobrevivência apresentados?"
   ]
  },
  {
   "cell_type": "code",
   "execution_count": 93,
   "metadata": {},
   "outputs": [
    {
     "name": "stdout",
     "output_type": "stream",
     "text": [
      "{'female': 233, 'male': 109}\n",
      "{'male': 468, 'female': 81}\n"
     ]
    }
   ],
   "source": [
    "# Contador de sobreviventes e vítimas de cada sexo\n",
    "df_survived_genders_counter = fields_counter(df_survived, 'sex')\n",
    "df_died_genders_counter = fields_counter(df_died, 'sex')\n",
    "\n",
    "print(df_survived_genders_counter)\n",
    "print(df_died_genders_counter)"
   ]
  },
  {
   "cell_type": "code",
   "execution_count": 94,
   "metadata": {
    "scrolled": true
   },
   "outputs": [
    {
     "name": "stdout",
     "output_type": "stream",
     "text": [
      "{'female': 68.12865497076024, 'male': 31.871345029239766}\n",
      "{'male': 85.24590163934427, 'female': 14.754098360655737}\n"
     ]
    }
   ],
   "source": [
    "# Percentual de sobreviventes e vítimas de cada sexo\n",
    "df_survived_genders_percent = fields_percent(df_survived_genders_counter, df_survived)\n",
    "df_died_genders_percent = fields_percent(df_died_genders_counter, df_died)\n",
    "\n",
    "print(df_survived_genders_percent)\n",
    "print(df_died_genders_percent)"
   ]
  },
  {
   "cell_type": "code",
   "execution_count": 95,
   "metadata": {
    "scrolled": false
   },
   "outputs": [
    {
     "data": {
      "image/png": "[encoded data removed]",
      "text/plain": [
       "<matplotlib.figure.Figure at 0x7f27cfa8b3c8>"
      ]
     },
     "metadata": {},
     "output_type": "display_data"
    }
   ],
   "source": [
    "# Gráfico de sobreviventes por sexo em barra\n",
    "graph_bar_generator(df_survived_genders_counter, 'Survivors Totals by Gender', 'Gender', 'Total')"
   ]
  },
  {
   "cell_type": "markdown",
   "metadata": {},
   "source": [
    "Neste gráfico é possível visualizar que a maior quantidade de sobreviventes eram do sexo feminino."
   ]
  },
  {
   "cell_type": "code",
   "execution_count": 96,
   "metadata": {
    "scrolled": false
   },
   "outputs": [
    {
     "data": {
      "image/png": "[encoded data removed]",
      "text/plain": [
       "<matplotlib.figure.Figure at 0x7f27cf35a8d0>"
      ]
     },
     "metadata": {},
     "output_type": "display_data"
    }
   ],
   "source": [
    "# Gráfico de vítimas por sexo em barra\n",
    "graph_bar_generator(df_died_genders_counter, 'Victims Totals by Gender', 'Gender', 'Total')"
   ]
  },
  {
   "cell_type": "markdown",
   "metadata": {},
   "source": [
    "E então é possível observar que a maior quantidade de vítimas era do sexo masculino."
   ]
  },
  {
   "cell_type": "code",
   "execution_count": 97,
   "metadata": {
    "scrolled": false
   },
   "outputs": [
    {
     "data": {
      "image/png": "[encoded data removed]",
      "text/plain": [
       "<matplotlib.figure.Figure at 0x7f27cf42fdd8>"
      ]
     },
     "metadata": {},
     "output_type": "display_data"
    }
   ],
   "source": [
    "# Gráfico de porcentagem de sobreviventes por sexo em barra\n",
    "graph_bar_generator(df_survived_genders_percent, 'Survivors Percentage by Gender', 'Gender', 'Percentage')"
   ]
  },
  {
   "cell_type": "markdown",
   "metadata": {},
   "source": [
    "Percentualmente falando, as mulheres representam quase 70% dos sobreviventes."
   ]
  },
  {
   "cell_type": "code",
   "execution_count": 98,
   "metadata": {
    "scrolled": false
   },
   "outputs": [
    {
     "data": {
      "image/png": "[encoded data removed]",
      "text/plain": [
       "<matplotlib.figure.Figure at 0x7f27cfb94940>"
      ]
     },
     "metadata": {},
     "output_type": "display_data"
    }
   ],
   "source": [
    "# Gráfico de porcentagem de vítimas por sexo em barra\n",
    "graph_bar_generator(df_died_genders_percent, 'Victims Percentage by Gender', 'Gender', 'Percentage')"
   ]
  },
  {
   "cell_type": "markdown",
   "metadata": {},
   "source": [
    "Enquanto os homens representam mais de 80% das vítimas."
   ]
  },
  {
   "cell_type": "markdown",
   "metadata": {},
   "source": [
    "#### Resposta\n",
    "\n",
    "O sexo com maiores índices de sobrevivência foi o feminino, representando 68,13% do total de sobreviventes.\n",
    "\n",
    "O sexo com maiores índices de vítimas foi o masculino, representando 85,25% das vítimas fatais do acidente."
   ]
  },
  {
   "cell_type": "markdown",
   "metadata": {},
   "source": [
    "### Pergunta 3: Qual a faixa etária com maiores índices de sobrevivência?\n",
    "\n",
    "Existe relação entre a faixa etária dos passageiros com os índices de sobrevivência apresentados?\n",
    "\n",
    "As faixas etárias utilizadas foram:\n",
    "* Faixa 1: >= 0 e < 15\n",
    "* Faixa 2: >= 15 e age < 30\n",
    "* Faixa 3: >= 30 e age < 60\n",
    "* Faixa 4: >= 60"
   ]
  },
  {
   "cell_type": "code",
   "execution_count": 99,
   "metadata": {},
   "outputs": [],
   "source": [
    "# Separa as faixas de idade\n",
    "df_survived_range = {}\n",
    "df_died_range = {}\n",
    "\n",
    "for i in range(4):\n",
    "    df_survived_range[i+1] = chop_by_age_range(df_survived_with_age, (i+1))\n",
    "    df_died_range[i+1] = chop_by_age_range(df_died_with_age, (i+1))    "
   ]
  },
  {
   "cell_type": "code",
   "execution_count": 100,
   "metadata": {},
   "outputs": [],
   "source": [
    "# Prepara os dados para exibição\n",
    "survived_list_age_range = {}\n",
    "died_list_age_range = {}\n",
    "\n",
    "for i in range(4):\n",
    "    survived_list_age_range[i+1] = df_survived_range[i+1]['age'].count()\n",
    "    died_list_age_range[i+1] = df_died_range[i+1]['age'].count()"
   ]
  },
  {
   "cell_type": "code",
   "execution_count": 101,
   "metadata": {
    "scrolled": true
   },
   "outputs": [
    {
     "data": {
      "image/png": "[encoded data removed]",
      "text/plain": [
       "<matplotlib.figure.Figure at 0x7f27cfdc9128>"
      ]
     },
     "metadata": {},
     "output_type": "display_data"
    }
   ],
   "source": [
    "# Gráfico de sobreviventes por faixa etária em barra\n",
    "graph_bar_generator(survived_list_age_range, 'Survivors Totals by Age Range', 'Age Range', 'Total')"
   ]
  },
  {
   "cell_type": "markdown",
   "metadata": {},
   "source": [
    "É possível visualizar que os adultos, representados pela faixa etária 3 representam a maior quantidade de sobreviventes."
   ]
  },
  {
   "cell_type": "code",
   "execution_count": 102,
   "metadata": {
    "scrolled": true
   },
   "outputs": [
    {
     "data": {
      "image/png": "[encoded data removed]",
      "text/plain": [
       "<matplotlib.figure.Figure at 0x7f27cf42f0b8>"
      ]
     },
     "metadata": {},
     "output_type": "display_data"
    }
   ],
   "source": [
    "# Gráfico de vítimas por faixa etária em barra\n",
    "graph_bar_generator(died_list_age_range, 'Victims Totals by Age Range', 'Age Range', 'Total')"
   ]
  },
  {
   "cell_type": "markdown",
   "metadata": {},
   "source": [
    "Enquanto os jovens, da faixa etária 2, representam a maior quantidade de vítimas do acidente."
   ]
  },
  {
   "cell_type": "code",
   "execution_count": 103,
   "metadata": {
    "scrolled": true
   },
   "outputs": [
    {
     "name": "stdout",
     "output_type": "stream",
     "text": [
      "{1: 15.517241379310345, 2: 38.275862068965516, 3: 43.793103448275865, 4: 2.413793103448276}\n",
      "{1: 7.783018867924528, 2: 45.990566037735846, 3: 41.74528301886792, 4: 4.481132075471698}\n"
     ]
    }
   ],
   "source": [
    "# Percentual de sobreviventes e vítimas de cada faixa etária\n",
    "df_survived_age_range_percent = fields_percent(survived_list_age_range, df_survived_with_age)\n",
    "df_died_age_range_percent = fields_percent(died_list_age_range, df_died_with_age)\n",
    "\n",
    "print(df_survived_age_range_percent)\n",
    "print(df_died_age_range_percent)"
   ]
  },
  {
   "cell_type": "code",
   "execution_count": 104,
   "metadata": {
    "scrolled": true
   },
   "outputs": [
    {
     "data": {
      "image/png": "[encoded data removed]",
      "text/plain": [
       "<matplotlib.figure.Figure at 0x7f27cfb81fd0>"
      ]
     },
     "metadata": {},
     "output_type": "display_data"
    }
   ],
   "source": [
    "# Gráfico de porcentagem de sobreviventes por faixa etária em barra\n",
    "graph_bar_generator(df_survived_age_range_percent, 'Survivors Percentage by Age Range', 'Age Range', 'Percentage')"
   ]
  },
  {
   "cell_type": "markdown",
   "metadata": {},
   "source": [
    "Isso é representado pelo gráfico de percentual, mostrando então os adultos como maioria dos sobreviventes."
   ]
  },
  {
   "cell_type": "code",
   "execution_count": 105,
   "metadata": {
    "scrolled": false
   },
   "outputs": [
    {
     "data": {
      "image/png": "[encoded data removed]",
      "text/plain": [
       "<matplotlib.figure.Figure at 0x7f27cf4d2d68>"
      ]
     },
     "metadata": {},
     "output_type": "display_data"
    }
   ],
   "source": [
    "# Gráfico de porcentagem de sobreviventes por faixa etária em barra\n",
    "graph_bar_generator(df_died_age_range_percent, 'Victims Percentage by Age Range', 'Age Range', 'Percentage')"
   ]
  },
  {
   "cell_type": "markdown",
   "metadata": {},
   "source": [
    "E neste gráfico, mostrando os jovens como a maioria das vítimas, percentualmente também."
   ]
  },
  {
   "cell_type": "markdown",
   "metadata": {},
   "source": [
    "#### Resposta\n",
    "\n",
    "A faixa etária com maiores índices de sobrevivência foram: 3, 2, 1 e 4, em ordem. A faixa etária 3 representa 43,79% do total de sobreviventes que tiveram suas idade catalogadas.\n",
    "\n",
    "A faixa etária com maiores índices de vítimas foram: 2, 3, 1 e 4, em ordem. A faixa etária 2 respresenta 45,99% das vítimas fatais do acidente que tiveram suas idade catalogadas."
   ]
  },
  {
   "cell_type": "markdown",
   "metadata": {},
   "source": [
    "## Pergunta 4: Existe relação entre idade e taxa de embarque?"
   ]
  },
  {
   "cell_type": "code",
   "execution_count": 106,
   "metadata": {
    "scrolled": true
   },
   "outputs": [
    {
     "data": {
      "image/png": "[encoded data removed]",
      "text/plain": [
       "<matplotlib.figure.Figure at 0x7f27cfb81048>"
      ]
     },
     "metadata": {},
     "output_type": "display_data"
    }
   ],
   "source": [
    "# Gráfico de dispersão fazendo relação entre idade e taxa de embarque\n",
    "df.plot(kind='scatter', x='age', y='fare', title='Age x Fare Relation');"
   ]
  },
  {
   "cell_type": "markdown",
   "metadata": {},
   "source": [
    "#### Resposta\n",
    "\n",
    "Não existem evidências estatísticas que apontem correlação entre as variáveis idade (age) e taxa de embarque (fare)."
   ]
  },
  {
   "cell_type": "markdown",
   "metadata": {},
   "source": [
    "## Conclusões\n",
    "\n",
    "Algumas conclusões interessantes podem ser retiradas das análises realizadas, mas que precisariam de uma maior quantidade de dados e outros fatos que talvez não possam ser explicados matematicamente, como por exemplo: qual a diferença de layout físico do navio que levou a salvar boa parte dos passageiros de primeira classe, mas que não pode salvar tantos passageiros da terceira classe? Qual a estratégia de evacuação foi utilizada para que os gráficos de sobreviventes por sexo tenham mostrado maiores índices para os passageiros do sexo feminino?\n",
    "\n",
    "Estatisticamente, é possível concluir que mulheres adultas da primeira classe estão entre a maioria dos sobreviventes, mas seriam necessárias mais análises e massa de dados para que outras perguntas possam ser feitas e respondidas.\n",
    "\n",
    "Os resultados obtidos neste trabalho devem ser considerados puramente acadêmicos e análises criteriosas devem ser feitas por especialistas para que possam ser levadas em consideração como material de pesquisa para outros fins."
   ]
  },
  {
   "cell_type": "markdown",
   "metadata": {},
   "source": [
    "### Limitações\n",
    "\n",
    "A quantidade de dados disponíveis para a análise não chega a representar 50% do total de passageiros do Titanic, podendo levar a resultados menos precisos ou falsos positivos. Para a análise feita sobre as faixas etárias, por exemplo, as informações foram ainda mais reduzidas, pois foram descartados os registros de passageiros sem idade disponível."
   ]
  }
 ],
 "metadata": {
  "kernelspec": {
   "display_name": "Python 3",
   "language": "python",
   "name": "python3"
  },
  "language_info": {
   "codemirror_mode": {
    "name": "ipython",
    "version": 3
   },
   "file_extension": ".py",
   "mimetype": "text/x-python",
   "name": "python",
   "nbconvert_exporter": "python",
   "pygments_lexer": "ipython3",
   "version": "3.6.4"
  }
 },
 "nbformat": 4,
 "nbformat_minor": 2
}
